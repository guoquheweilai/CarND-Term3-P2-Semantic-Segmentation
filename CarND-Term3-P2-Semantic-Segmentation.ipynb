{
 "cells": [
  {
   "cell_type": "markdown",
   "metadata": {},
   "source": [
    "Import libraries"
   ]
  },
  {
   "cell_type": "code",
   "execution_count": 1,
   "metadata": {
    "collapsed": true
   },
   "outputs": [],
   "source": [
    "import os.path\n",
    "import tensorflow as tf\n",
    "import helper\n",
    "import warnings\n",
    "from distutils.version import LooseVersion\n",
    "import project_tests as tests\n",
    "import time"
   ]
  },
  {
   "cell_type": "markdown",
   "metadata": {},
   "source": [
    "Check TensorFlow Version"
   ]
  },
  {
   "cell_type": "code",
   "execution_count": 2,
   "metadata": {},
   "outputs": [
    {
     "name": "stdout",
     "output_type": "stream",
     "text": [
      "TensorFlow Version: 1.2.1\n"
     ]
    }
   ],
   "source": [
    "# Check TensorFlow Version\n",
    "assert LooseVersion(tf.__version__) >= LooseVersion('1.0'), 'Please use TensorFlow version 1.0 or newer.  You are using {}'.format(tf.__version__)\n",
    "print('TensorFlow Version: {}'.format(tf.__version__))"
   ]
  },
  {
   "cell_type": "markdown",
   "metadata": {},
   "source": [
    "Check for a GPU"
   ]
  },
  {
   "cell_type": "code",
   "execution_count": 3,
   "metadata": {},
   "outputs": [
    {
     "name": "stdout",
     "output_type": "stream",
     "text": [
      "Default GPU Device: /gpu:0\n"
     ]
    }
   ],
   "source": [
    "# Check for a GPU\n",
    "if not tf.test.gpu_device_name():\n",
    "    warnings.warn('No GPU found. Please use a GPU to train your neural network.')\n",
    "else:\n",
    "    print('Default GPU Device: {}'.format(tf.test.gpu_device_name()))"
   ]
  },
  {
   "cell_type": "markdown",
   "metadata": {},
   "source": [
    "Define load_vgg()"
   ]
  },
  {
   "cell_type": "code",
   "execution_count": 4,
   "metadata": {
    "collapsed": true
   },
   "outputs": [],
   "source": [
    "def load_vgg(sess, vgg_path):\n",
    "    \"\"\"\n",
    "    Load Pretrained VGG Model into TensorFlow.\n",
    "    :param sess: TensorFlow Session\n",
    "    :param vgg_path: Path to vgg folder, containing \"variables/\" and \"saved_model.pb\"\n",
    "    :return: Tuple of Tensors from VGG model (image_input, keep_prob, layer3_out, layer4_out, layer7_out)\n",
    "    \"\"\"\n",
    "    # TODO: Implement function\n",
    "    #   Use tf.saved_model.loader.load to load the model and weights\n",
    "    vgg_tag = 'vgg16'\n",
    "    vgg_input_tensor_name = 'image_input:0'\n",
    "    vgg_keep_prob_tensor_name = 'keep_prob:0'\n",
    "    vgg_layer3_out_tensor_name = 'layer3_out:0'\n",
    "    vgg_layer4_out_tensor_name = 'layer4_out:0'\n",
    "    vgg_layer7_out_tensor_name = 'layer7_out:0'\n",
    "    \n",
    "    # Load the saved model\n",
    "    tf.saved_model.loader.load(sess, [vgg_tag], vgg_path)\n",
    "    \n",
    "    # Get the tensor layers by name\n",
    "    graph = tf.get_default_graph()\n",
    "    image_input = graph.get_tensor_by_name(vgg_input_tensor_name)\n",
    "    keep_prob = graph.get_tensor_by_name(vgg_keep_prob_tensor_name)\n",
    "    layer3_out = graph.get_tensor_by_name(vgg_layer3_out_tensor_name)\n",
    "    layer4_out = graph.get_tensor_by_name(vgg_layer4_out_tensor_name)\n",
    "    layer7_out = graph.get_tensor_by_name(vgg_layer7_out_tensor_name)\n",
    "    \n",
    "    return image_input, keep_prob, layer3_out, layer4_out, layer7_out"
   ]
  },
  {
   "cell_type": "markdown",
   "metadata": {},
   "source": [
    "Run test"
   ]
  },
  {
   "cell_type": "code",
   "execution_count": 5,
   "metadata": {},
   "outputs": [
    {
     "name": "stdout",
     "output_type": "stream",
     "text": [
      "Tests Passed\n"
     ]
    }
   ],
   "source": [
    "tests.test_load_vgg(load_vgg, tf)"
   ]
  },
  {
   "cell_type": "markdown",
   "metadata": {},
   "source": [
    "Define layers()"
   ]
  },
  {
   "cell_type": "code",
   "execution_count": 6,
   "metadata": {
    "collapsed": true
   },
   "outputs": [],
   "source": [
    "def layers(vgg_layer3_out, vgg_layer4_out, vgg_layer7_out, num_classes):\n",
    "    \"\"\"\n",
    "    Create the layers for a fully convolutional network.  Build skip-layers using the vgg layers.\n",
    "    :param vgg_layer3_out: TF Tensor for VGG Layer 3 output\n",
    "    :param vgg_layer4_out: TF Tensor for VGG Layer 4 output\n",
    "    :param vgg_layer7_out: TF Tensor for VGG Layer 7 output\n",
    "    :param num_classes: Number of classes to classify\n",
    "    :return: The Tensor for the last layer of output\n",
    "    \"\"\"\n",
    "    # TODO: Implement function\n",
    "    # Here we will use FCN-8 architecture developed at Berkeley. (https://people.eecs.berkeley.edu/~jonlong/long_shelhamer_fcn.pdf)\n",
    "    # Here is the encoder architecture\n",
    "    # conv7 = Do convolution on layer 7\n",
    "    # upsampled_conv7 = Upsample conv7\n",
    "    # conv4 = Do convolution on layer 4\n",
    "    # skip4 = Connect upsampled_conv7 to conv4\n",
    "    # upsampled_skip4 = Upsample skip4\n",
    "    # conv3 = Do convolution on layer 3\n",
    "    # skip3 = Connect upsampled_skip4 to conv3\n",
    "    # upsampled_skip3 = Upsample skip3\n",
    "    # output = upsampled_skip3\n",
    "\n",
    "    # Set standard deviation of weights\n",
    "    weights_stddev = 0.01\n",
    "    \n",
    "    # Set L2 regularizer of weights\n",
    "    weights_l2_regularizer = 1e-3\n",
    "    \n",
    "    # Do 1x1 convolution on vgg16 layer 7\n",
    "    conv7 = tf.layers.conv2d(vgg_layer7_out, filters = num_classes, kernel_size = 1, strides = (1,1), padding = 'same',\n",
    "                             kernel_initializer = tf.random_normal_initializer(stddev = weights_stddev),\n",
    "                             kernel_regularizer = tf.contrib.layers.l2_regularizer(weights_l2_regularizer)\n",
    "                            )\n",
    "    \n",
    "    # Do unsample on vgg16 layer 7\n",
    "    upsampled_conv7 = tf.layers.conv2d_transpose(conv7, filters = num_classes, kernel_size = 4, strides = (2, 2), padding = 'same',\n",
    "                                                 kernel_initializer = tf.random_normal_initializer(stddev = weights_stddev),\n",
    "                                                 kernel_regularizer = tf.contrib.layers.l2_regularizer(weights_l2_regularizer)\n",
    "                                                )\n",
    "    \n",
    "    # Do 1x1 convolution on vgg16 layer 4\n",
    "    conv4 = tf.layers.conv2d(vgg_layer4_out, filters = num_classes, kernel_size = 1, strides = (1,1), padding = 'same',\n",
    "                             kernel_initializer = tf.random_normal_initializer(stddev = weights_stddev),\n",
    "                             kernel_regularizer = tf.contrib.layers.l2_regularizer(weights_l2_regularizer)\n",
    "                            )\n",
    "    \n",
    "    # Do skip connection between unsampled_cov7 and conv4\n",
    "    skip4 = tf.add(upsampled_conv7, conv4)\n",
    "\n",
    "    # Do unsample on skip4\n",
    "    upsampled_skip4 = tf.layers.conv2d_transpose(skip4, filters = num_classes, kernel_size = 4, strides = (2, 2), padding = 'same',\n",
    "                                                 kernel_initializer = tf.random_normal_initializer(stddev = weights_stddev),\n",
    "                                                 kernel_regularizer = tf.contrib.layers.l2_regularizer(weights_l2_regularizer)\n",
    "                                                )\n",
    "    \n",
    "    # Do 1x1 convolution on vgg16 layer 3\n",
    "    conv3 = tf.layers.conv2d(vgg_layer3_out, filters = num_classes, kernel_size = 1, strides = (1,1), padding = 'same',\n",
    "                             kernel_initializer = tf.random_normal_initializer(stddev = weights_stddev),\n",
    "                             kernel_regularizer = tf.contrib.layers.l2_regularizer(weights_l2_regularizer)\n",
    "                            )\n",
    "    \n",
    "    # Do skip connection between unsampled_skip4 and conv3\n",
    "    skip3 = tf.add(upsampled_skip4, conv3)\n",
    "\n",
    "    # Do unsample on skip3\n",
    "    upsampled_skip3 = tf.layers.conv2d_transpose(skip3, filters = num_classes, kernel_size = 16, strides = (8, 8), padding = 'same',\n",
    "                                                 kernel_initializer = tf.random_normal_initializer(stddev = weights_stddev),\n",
    "                                                 kernel_regularizer = tf.contrib.layers.l2_regularizer(weights_l2_regularizer)\n",
    "                                                )\n",
    "    \n",
    "    # Output is the unsampled_skip3\n",
    "    output = upsampled_skip3\n",
    "    \n",
    "    return output"
   ]
  },
  {
   "cell_type": "markdown",
   "metadata": {},
   "source": [
    "Run test"
   ]
  },
  {
   "cell_type": "code",
   "execution_count": 7,
   "metadata": {},
   "outputs": [
    {
     "name": "stdout",
     "output_type": "stream",
     "text": [
      "Tests Passed\n"
     ]
    }
   ],
   "source": [
    "tests.test_layers(layers)"
   ]
  },
  {
   "cell_type": "markdown",
   "metadata": {},
   "source": [
    "Define optimize()"
   ]
  },
  {
   "cell_type": "code",
   "execution_count": 8,
   "metadata": {
    "collapsed": true
   },
   "outputs": [],
   "source": [
    "def optimize(nn_last_layer, correct_label, learning_rate, num_classes):\n",
    "    \"\"\"\n",
    "    Build the TensorFLow loss and optimizer operations.\n",
    "    :param nn_last_layer: TF Tensor of the last layer in the neural network\n",
    "    :param correct_label: TF Placeholder for the correct label image\n",
    "    :param learning_rate: TF Placeholder for the learning rate\n",
    "    :param num_classes: Number of classes to classify\n",
    "    :return: Tuple of (logits, train_op, cross_entropy_loss)\n",
    "    \"\"\"\n",
    "    # TODO: Implement function\n",
    "    # Remember the output tensor is 4D so we have to reshape it to 2D\n",
    "    # logits is now a 2D tensor where each row represents a pixel and each column a class.\n",
    "    logits = tf.reshape(nn_last_layer, (-1, num_classes)) ## Remove this line???\n",
    "    \n",
    "    # Reshape correct_label tensor to 2D\n",
    "    labels = tf.reshape(correct_label, (-1, num_classes))\n",
    "    \n",
    "    # We can just use standard cross entropy loss function\n",
    "    cross_entropy_loss = tf.reduce_mean(tf.nn.softmax_cross_entropy_with_logits(labels = labels, logits = logits))\n",
    "    \n",
    "    # Use Adam optimizer for training\n",
    "    optimizer = tf.train.AdamOptimizer(learning_rate = learning_rate)\n",
    "    train_op = optimizer.minimize(cross_entropy_loss)\n",
    "    \n",
    "    return logits, train_op, cross_entropy_loss"
   ]
  },
  {
   "cell_type": "markdown",
   "metadata": {},
   "source": [
    "Run test"
   ]
  },
  {
   "cell_type": "code",
   "execution_count": 9,
   "metadata": {},
   "outputs": [
    {
     "name": "stdout",
     "output_type": "stream",
     "text": [
      "Tests Passed\n"
     ]
    }
   ],
   "source": [
    "tests.test_optimize(optimize)"
   ]
  },
  {
   "cell_type": "markdown",
   "metadata": {},
   "source": [
    "Define train_nn()"
   ]
  },
  {
   "cell_type": "code",
   "execution_count": 10,
   "metadata": {
    "collapsed": true
   },
   "outputs": [],
   "source": [
    "def train_nn(sess, epochs, batch_size, get_batches_fn, train_op, cross_entropy_loss, input_image,\n",
    "             correct_label, keep_prob, learning_rate):\n",
    "    \"\"\"\n",
    "    Train neural network and print out the loss during training.\n",
    "    :param sess: TF Session\n",
    "    :param epochs: Number of epochs\n",
    "    :param batch_size: Batch size\n",
    "    :param get_batches_fn: Function to get batches of training data.  Call using get_batches_fn(batch_size)\n",
    "    :param train_op: TF Operation to train the neural network\n",
    "    :param cross_entropy_loss: TF Tensor for the amount of loss\n",
    "    :param input_image: TF Placeholder for input images\n",
    "    :param correct_label: TF Placeholder for label images\n",
    "    :param keep_prob: TF Placeholder for dropout keep probability\n",
    "    :param learning_rate: TF Placeholder for learning rate\n",
    "    \"\"\"\n",
    "    # TODO: Implement function\n",
    "    \n",
    "    # Run global variables initializer\n",
    "    sess.run(tf.global_variables_initializer())\n",
    "    \n",
    "    # Start training\n",
    "    print(\"Training...\")\n",
    "    print()\n",
    "    \n",
    "    for epoch in range(epochs):\n",
    "        # Print result for record\n",
    "        print(\"EPOCH {} ...\".format(epoch+1))\n",
    "        start_time = time.time()\n",
    "        \n",
    "        for image, label in get_batches_fn(batch_size):\n",
    "            # Training\n",
    "            _, loss = sess.run([train_op, cross_entropy_loss],\n",
    "                               feed_dict = {input_image: image, correct_label: label,\n",
    "                                            keep_prob: 0.5, learning_rate: 0.00001\n",
    "                                           }\n",
    "                              )\n",
    "            print(\"Loss = {:.3f}\".format(loss))\n",
    "        elapsed_time = time.time() - start_time\n",
    "        print(\"Elapsed time = {:.3f}\".format(elapsed_time))\n",
    "        print()\n",
    "    \n",
    "    # Finish training\n",
    "    print(\"Training finished.\")"
   ]
  },
  {
   "cell_type": "markdown",
   "metadata": {},
   "source": [
    "Run test"
   ]
  },
  {
   "cell_type": "code",
   "execution_count": 11,
   "metadata": {},
   "outputs": [
    {
     "name": "stdout",
     "output_type": "stream",
     "text": [
      "INFO:tensorflow:Restoring parameters from b'./data/vgg/variables/variables'\n"
     ]
    }
   ],
   "source": [
    "tests.test_train_nn(train_nn)"
   ]
  },
  {
   "cell_type": "markdown",
   "metadata": {},
   "source": [
    "Define run()"
   ]
  },
  {
   "cell_type": "code",
   "execution_count": 12,
   "metadata": {
    "collapsed": true
   },
   "outputs": [],
   "source": [
    "def run():\n",
    "    num_classes = 2\n",
    "    image_shape = (160, 576)\n",
    "    data_dir = './data'\n",
    "    runs_dir = './runs'\n",
    "    tests.test_for_kitti_dataset(data_dir)\n",
    "\n",
    "    # Download pretrained vgg model\n",
    "    helper.maybe_download_pretrained_vgg(data_dir)\n",
    "\n",
    "    # OPTIONAL: Train and Inference on the cityscapes dataset instead of the Kitti dataset.\n",
    "    # You'll need a GPU with at least 10 teraFLOPS to train on.\n",
    "    #  https://www.cityscapes-dataset.com/\n",
    "\n",
    "    with tf.Session() as sess:\n",
    "        # Path to vgg model\n",
    "        vgg_path = os.path.join(data_dir, 'vgg')\n",
    "        # Create function to get batches\n",
    "        get_batches_fn = helper.gen_batch_function(os.path.join(data_dir, 'data_road/training'), image_shape)\n",
    "\n",
    "        # OPTIONAL: Augment Images for better results\n",
    "        #  https://datascience.stackexchange.com/questions/5224/how-to-prepare-augment-images-for-neural-network\n",
    "\n",
    "        # TODO: Build NN using load_vgg, layers, and optimize function\n",
    "        \n",
    "        # Create placeholders\n",
    "        correct_label = tf.placeholder(tf.int32, [None, None, None, num_classes], name = 'correct_label')\n",
    "        learning_rate = tf.placeholder(tf.float32, name = 'learning_rate')\n",
    "        \n",
    "        # Load the layers from the VGG16\n",
    "        input_image, keep_prob, layer3_out, layer4_out, layer7_out = load_vgg(sess, vgg_path)\n",
    "        \n",
    "        # Construct new layers\n",
    "        output_layer = layers(layer3_out, layer4_out, layer7_out, num_classes)\n",
    "\n",
    "        # TODO: Train NN using the train_nn function\n",
    "        # Define optimizer\n",
    "        logits, train_op, cross_entropy_loss = optimize(output_layer, correct_label, learning_rate, num_classes)\n",
    "        \n",
    "        # Define training epochs and batch size\n",
    "        epochs = 40\n",
    "        batch_size = 5\n",
    "        \n",
    "        # print('Before training')\n",
    "        \n",
    "        # Start training\n",
    "        train_nn(sess, epochs, batch_size, get_batches_fn, train_op, cross_entropy_loss, input_image, correct_label, keep_prob, learning_rate)\n",
    "        \n",
    "        # print('After training')\n",
    "\n",
    "        print('Before saving inference data')\n",
    "        \n",
    "        # TODO: Save inference data using helper.save_inference_samples\n",
    "        helper.save_inference_samples(runs_dir, data_dir, sess, image_shape, logits, keep_prob, input_image)\n",
    "\n",
    "        print('After saving inference data')\n",
    "        \n",
    "        # OPTIONAL: Apply the trained model to a video\n"
   ]
  },
  {
   "cell_type": "markdown",
   "metadata": {},
   "source": [
    "Run training"
   ]
  },
  {
   "cell_type": "code",
   "execution_count": 13,
   "metadata": {
    "collapsed": true,
    "scrolled": false
   },
   "outputs": [],
   "source": [
    "if __name__ == '__main__':\n",
    "    run()"
   ]
  },
  {
   "cell_type": "code",
   "execution_count": null,
   "metadata": {
    "collapsed": true
   },
   "outputs": [],
   "source": []
  }
 ],
 "metadata": {
  "kernelspec": {
   "display_name": "Python 3",
   "language": "python",
   "name": "python3"
  },
  "language_info": {
   "codemirror_mode": {
    "name": "ipython",
    "version": 3
   },
   "file_extension": ".py",
   "mimetype": "text/x-python",
   "name": "python",
   "nbconvert_exporter": "python",
   "pygments_lexer": "ipython3",
   "version": "3.6.1"
  }
 },
 "nbformat": 4,
 "nbformat_minor": 2
}
